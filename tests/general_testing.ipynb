{
 "cells": [
  {
   "cell_type": "code",
   "execution_count": 3,
   "metadata": {},
   "outputs": [
    {
     "data": {
      "text/plain": [
       "{'entry_prices': ['2000', '2300', '3500']}"
      ]
     },
     "execution_count": 3,
     "metadata": {},
     "output_type": "execute_result"
    }
   ],
   "source": [
    "# TEST PARSER \n",
    "\n",
    "row = 'Buy 2000-2300-3500'\n",
    "op_data={'entry_prices':[]}\n",
    "\n",
    "if 'Buy' in row:\n",
    "    if '-' in row.split()[1]:\n",
    "        temp = row.split()[1].split('-')\n",
    "        for n in range(len(temp)):\n",
    "            op_data['entry_prices'].append(temp[n])\n",
    "    else:\n",
    "        op_data['entry_prices'].append(row.split()[1])\n",
    "\n",
    "op_data\n",
    "\n"
   ]
  },
  {
   "cell_type": "code",
   "execution_count": null,
   "metadata": {},
   "outputs": [],
   "source": [
    "'''\n",
    "### BUG FOUNDED on balance_trigger_orders_quantity\n",
    "\n",
    "symbol           ETH-PERP\n",
    "trade side       buy\n",
    "entry prices     2410 2510\n",
    "take profits     3510 3560 3610\n",
    "stop losses      1960 1910\n",
    "leverage         \n",
    "amount_token_position  0.00622407\n",
    "take_profit_quantities  [0.00207469, 0.00207469, 0.0020746899999999997]\n",
    "stop_loss_quantities  [0.00311203, 9.999999999940612e-09]   <<-----------------\n",
    "'''"
   ]
  },
  {
   "cell_type": "code",
   "execution_count": 7,
   "metadata": {},
   "outputs": [
    {
     "name": "stdout",
     "output_type": "stream",
     "text": [
      "[0.00311203, 0.00311204] 0.00622407\n"
     ]
    }
   ],
   "source": [
    "def balance_trigger_orders_quantity(trigger_prices, entry_quantity):\n",
    "    trigger_quantities = []\n",
    "    single_trigger_quantity = round( entry_quantity/len(trigger_prices) ,8)\n",
    "    n_triggers = len(trigger_prices)\n",
    "\n",
    "    if n_triggers > 1:\n",
    "        if 0 != entry_quantity % ( single_trigger_quantity * (n_triggers-1) ):\n",
    "            trigger_quantities = [single_trigger_quantity for i in trigger_prices][:-1]\n",
    "            last_trigger_quantity = entry_quantity % ( single_trigger_quantity * (n_triggers-1) ) + single_trigger_quantity\n",
    "            trigger_quantities.append(last_trigger_quantity)\n",
    "        else:\n",
    "            trigger_quantities = [single_trigger_quantity for i in trigger_prices]\n",
    "            \n",
    "    else:\n",
    "        trigger_quantities.append(entry_quantity)\n",
    "\n",
    "    return trigger_quantities\n",
    "\n",
    "amount_token_position = 0.00622407\n",
    "take_profit_quantities = balance_trigger_orders_quantity([1960,1910], amount_token_position)\n",
    "print(take_profit_quantities,sum(take_profit_quantities))"
   ]
  }
 ],
 "metadata": {
  "interpreter": {
   "hash": "cb0b05c98d2faea06d51126b5f062edfcde527e8dccbd2f9c09e223b59d5d958"
  },
  "kernelspec": {
   "display_name": "Python 3.9.7 ('venv': venv)",
   "language": "python",
   "name": "python3"
  },
  "language_info": {
   "codemirror_mode": {
    "name": "ipython",
    "version": 3
   },
   "file_extension": ".py",
   "mimetype": "text/x-python",
   "name": "python",
   "nbconvert_exporter": "python",
   "pygments_lexer": "ipython3",
   "version": "3.9.7"
  },
  "orig_nbformat": 4
 },
 "nbformat": 4,
 "nbformat_minor": 2
}
