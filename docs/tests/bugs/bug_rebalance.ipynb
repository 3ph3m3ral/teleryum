{
 "cells": [
  {
   "cell_type": "markdown",
   "id": "moving-accuracy",
   "metadata": {},
   "source": [
    "# 🔥 BUG:\n",
    "quando apro piu TP o SL rimangono fuori pochi spiccioli che non verranno chiusi.\n",
    "Da fillare completamente. Se e'l'ultimo trade allora filla con la sua: \n",
    "    \n",
    "    n_tp = 3\n",
    "    quantita_entry = 2.0\n",
    "    quantita_singolo_TP = 0.6\n",
    "\n",
    "    quantita_ultimo_TP/SL  =  quantita_entry - quantita_singolo_TP  * n_TP\n",
    "\n",
    "    [ quantita_ultimo_TP/SL = 0.8 ]     "
   ]
  },
  {
   "cell_type": "code",
   "execution_count": 1,
   "id": "seventh-motorcycle",
   "metadata": {},
   "outputs": [],
   "source": [
    "take_profits = [10,13,9,11,12]\n",
    "quantita_entry = 2139.0"
   ]
  },
  {
   "cell_type": "code",
   "execution_count": 2,
   "id": "cooperative-seeking",
   "metadata": {},
   "outputs": [
    {
     "data": {
      "text/plain": [
       "428"
      ]
     },
     "execution_count": 2,
     "metadata": {},
     "output_type": "execute_result"
    }
   ],
   "source": [
    "quantita_singolo_TP = round(quantita_entry/len(take_profits))\n",
    "quantita_singolo_TP"
   ]
  },
  {
   "cell_type": "code",
   "execution_count": 3,
   "id": "lesbian-consent",
   "metadata": {},
   "outputs": [
    {
     "data": {
      "text/plain": [
       "5"
      ]
     },
     "execution_count": 3,
     "metadata": {},
     "output_type": "execute_result"
    }
   ],
   "source": [
    "n_TP = len(take_profits)\n",
    "n_TP"
   ]
  },
  {
   "cell_type": "code",
   "execution_count": 4,
   "id": "minor-england",
   "metadata": {},
   "outputs": [
    {
     "data": {
      "text/plain": [
       "[428, 428, 428, 428]"
      ]
     },
     "execution_count": 4,
     "metadata": {},
     "output_type": "execute_result"
    }
   ],
   "source": [
    "take_profits_balanced = [quantita_singolo_TP for i in take_profits][:-1]\n",
    "take_profits_balanced"
   ]
  },
  {
   "cell_type": "code",
   "execution_count": 5,
   "id": "legislative-fleece",
   "metadata": {},
   "outputs": [
    {
     "data": {
      "text/plain": [
       "427.0"
      ]
     },
     "execution_count": 5,
     "metadata": {},
     "output_type": "execute_result"
    }
   ],
   "source": [
    "quantita_ultimo_TP_SL = quantita_entry % ( quantita_singolo_TP * (n_TP-1) )\n",
    "quantita_ultimo_TP_SL"
   ]
  },
  {
   "cell_type": "code",
   "execution_count": 6,
   "id": "manufactured-solid",
   "metadata": {},
   "outputs": [
    {
     "data": {
      "text/plain": [
       "[428, 428, 428, 428, 427.0]"
      ]
     },
     "execution_count": 6,
     "metadata": {},
     "output_type": "execute_result"
    }
   ],
   "source": [
    "take_profits_balanced.append(quantita_ultimo_TP_SL)\n",
    "take_profits_balanced"
   ]
  },
  {
   "cell_type": "code",
   "execution_count": 7,
   "id": "beginning-palmer",
   "metadata": {},
   "outputs": [
    {
     "data": {
      "text/plain": [
       "True"
      ]
     },
     "execution_count": 7,
     "metadata": {},
     "output_type": "execute_result"
    }
   ],
   "source": [
    "sum(take_profits_balanced) == quantita_entry"
   ]
  },
  {
   "cell_type": "code",
   "execution_count": null,
   "id": "maritime-footage",
   "metadata": {},
   "outputs": [],
   "source": []
  },
  {
   "cell_type": "code",
   "execution_count": 10,
   "id": "unauthorized-prophet",
   "metadata": {},
   "outputs": [
    {
     "name": "stdout",
     "output_type": "stream",
     "text": [
      "[428, 428, 428, 428, 427.0]\n"
     ]
    }
   ],
   "source": [
    "def balance_trigger_orders_quantity(trigger_prices, entry_quantity):\n",
    "    trigger_quantities = []\n",
    "    c = [float(i) for i in trigger_prices]\n",
    "    single_trigger_quantity = round(entry_quantity/len(trigger_prices))\n",
    "    n_triggers = len(trigger_prices)\n",
    "    trigger_quantities = [single_trigger_quantity for i in trigger_prices][:-1]\n",
    "    last_trigger_quantity = entry_quantity % ( single_trigger_quantity * (n_triggers-1) )\n",
    "    trigger_quantities.append(last_trigger_quantity)\n",
    "    return(trigger_quantities)    \n",
    "\n",
    "d = balance_trigger_orders_quantity(trigger_prices=take_profits ,entry_quantity=quantita_entry)\n",
    "print(d)"
   ]
  },
  {
   "cell_type": "code",
   "execution_count": 12,
   "id": "parental-bargain",
   "metadata": {},
   "outputs": [
    {
     "data": {
      "text/plain": [
       "[6, 3, 2, 1]"
      ]
     },
     "execution_count": 12,
     "metadata": {},
     "output_type": "execute_result"
    }
   ],
   "source": [
    "sorted([1,2,6,3\n",
    "       ],reverse=True)"
   ]
  }
 ],
 "metadata": {
  "kernelspec": {
   "display_name": "Python 3",
   "language": "python",
   "name": "python3"
  },
  "language_info": {
   "codemirror_mode": {
    "name": "ipython",
    "version": 3
   },
   "file_extension": ".py",
   "mimetype": "text/x-python",
   "name": "python",
   "nbconvert_exporter": "python",
   "pygments_lexer": "ipython3",
   "version": "3.9.7"
  }
 },
 "nbformat": 4,
 "nbformat_minor": 5
}
